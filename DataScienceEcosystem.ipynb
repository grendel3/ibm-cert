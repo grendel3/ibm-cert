{
 "cells": [
  {
   "cell_type": "markdown",
   "id": "077c9755-b2f7-4c86-88aa-0df514e89e19",
   "metadata": {},
   "source": [
    "# Data Science Tools and Ecosystem"
   ]
  },
  {
   "cell_type": "markdown",
   "id": "ec346a40-92b5-450d-8519-d72724e97141",
   "metadata": {},
   "source": [
    "## Author\n",
    "Greg Lankenau"
   ]
  },
  {
   "cell_type": "markdown",
   "id": "88279c9a-e9dd-48e4-aa8d-4c880c2c2d2f",
   "metadata": {},
   "source": [
    "In this notebook, Data Science Tools and Ecosystem are summarized."
   ]
  },
  {
   "cell_type": "markdown",
   "id": "1528661b-0ca2-4078-8f00-b6a96f79b51a",
   "metadata": {},
   "source": [
    "**Objectives:**\n",
    "- List popular languages for data science\n",
    "- List common libraries used by data scientists\n",
    "- List some open-source data science tools\n",
    "- Show examples of evalauating arithmetic expressions in Python"
   ]
  },
  {
   "cell_type": "markdown",
   "id": "cde9eabc-b669-4b2d-83cd-68c98d598a2d",
   "metadata": {},
   "source": [
    "Some of the popular languages that data scientists use are\n",
    "1. Python\n",
    "2. R\n",
    "3. SQL (a non-procedural language)\n",
    "4. Java\n",
    "5. C++\n",
    "6. Scala\n",
    "7. Julia"
   ]
  },
  {
   "cell_type": "markdown",
   "id": "a7b225f7-7405-4d4d-ae17-25bce843162c",
   "metadata": {},
   "source": [
    "Some of the common libraries used by data scientists include\n",
    "1. Pandas\n",
    "2. NumPy\n",
    "3. Scikit-learn\n",
    "4. Matplotlib\n",
    "5. Seaborn\n",
    "6. Keras\n",
    "7. TensorFlow\n",
    "8. PyTorch"
   ]
  },
  {
   "cell_type": "markdown",
   "id": "c8c77b43-d1a7-4798-8dab-b244ddf11742",
   "metadata": {},
   "source": [
    "| Data Science Tools |\n",
    "| --- |\n",
    "| Jupyter Notebook |\n",
    "| JupyterLab |\n",
    "| RStudio |\n",
    "| Spyder |"
   ]
  },
  {
   "cell_type": "markdown",
   "id": "33724be4-432b-4f26-bca8-2ba9dfd1acbf",
   "metadata": {},
   "source": [
    "### Below are a few examples of evaluating arithmetic expressions in Python:"
   ]
  },
  {
   "cell_type": "code",
   "execution_count": 2,
   "id": "e96996ea-0d3c-47b5-a22d-b98204a6577c",
   "metadata": {},
   "outputs": [
    {
     "data": {
      "text/plain": [
       "17"
      ]
     },
     "execution_count": 2,
     "metadata": {},
     "output_type": "execute_result"
    }
   ],
   "source": [
    "# This is a simple arithmetic expression to multiply then add integers\n",
    "(3 * 4) + 5"
   ]
  },
  {
   "cell_type": "code",
   "execution_count": 3,
   "id": "d51d9f3c-439c-49db-9f2a-d1080757a0fa",
   "metadata": {},
   "outputs": [
    {
     "data": {
      "text/plain": [
       "3.3333333333333335"
      ]
     },
     "execution_count": 3,
     "metadata": {},
     "output_type": "execute_result"
    }
   ],
   "source": [
    "# This will convert 200 minutes to hours by dividing by 60\n",
    "200 / 60"
   ]
  },
  {
   "cell_type": "code",
   "execution_count": null,
   "id": "c8776384-03e9-4e5b-8f28-46ddf51c3fbe",
   "metadata": {},
   "outputs": [],
   "source": []
  }
 ],
 "metadata": {
  "kernelspec": {
   "display_name": "Python 3 (ipykernel)",
   "language": "python",
   "name": "python3"
  },
  "language_info": {
   "codemirror_mode": {
    "name": "ipython",
    "version": 3
   },
   "file_extension": ".py",
   "mimetype": "text/x-python",
   "name": "python",
   "nbconvert_exporter": "python",
   "pygments_lexer": "ipython3",
   "version": "3.11.4"
  }
 },
 "nbformat": 4,
 "nbformat_minor": 5
}
